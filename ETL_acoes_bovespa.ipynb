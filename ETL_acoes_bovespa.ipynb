{
  "nbformat": 4,
  "nbformat_minor": 0,
  "metadata": {
    "colab": {
      "provenance": [],
      "authorship_tag": "ABX9TyOFVQSzGd7IgZ8lHGO5Bplh",
      "include_colab_link": true
    },
    "kernelspec": {
      "name": "python3",
      "display_name": "Python 3"
    },
    "language_info": {
      "name": "python"
    }
  },
  "cells": [
    {
      "cell_type": "markdown",
      "metadata": {
        "id": "view-in-github",
        "colab_type": "text"
      },
      "source": [
        "<a href=\"https://colab.research.google.com/github/Azevedo1996/EngenhariadeDados/blob/main/ETL_acoes_bovespa.ipynb\" target=\"_parent\"><img src=\"https://colab.research.google.com/assets/colab-badge.svg\" alt=\"Open In Colab\"/></a>"
      ]
    },
    {
      "cell_type": "code",
      "execution_count": 1,
      "metadata": {
        "id": "1pIHfAqarMO8"
      },
      "outputs": [],
      "source": [
        "# importando as bibliotecas.\n",
        "import pandas as pd"
      ]
    },
    {
      "cell_type": "code",
      "source": [
        "# Utilizando readfwf pois é um arquivo posicional.\n",
        "# Criando listas com nomes e posições das colunas\n",
        "# Transformando em função para automatizar o processo.\n",
        "def read_files(path, name_file, year_date, type_file):\n",
        "    \n",
        "  _file = f{path}{name_file}{year_date}.{type_file}\n",
        "\n",
        "  colspecs = [(2, 10),\n",
        "              (10, 12),\n",
        "              (12, 24),\n",
        "              (27, 39),\n",
        "              (56, 69),\n",
        "              (69, 82),\n",
        "              (82, 95),\n",
        "              (108, 121),\n",
        "              (152, 170),\n",
        "              (170, 188)\n",
        "  ]\n",
        "\n",
        "  names = ['data_pregao', 'codbdi', 'sigla_acao', 'nome_acao', 'preco_abertura', 'preco_maximo', 'preco_minimo', 'preco_fechamento', 'qtd_negocios', 'volume_negocios']\n",
        "\n",
        "  # Criando o dataframe\n",
        "  df = pd.read_fwf(_file, colspecs = colspecs, names = names, skiprows=1)\n",
        "  return df"
      ],
      "metadata": {
        "id": "0Rz1l1ri2fH3"
      },
      "execution_count": null,
      "outputs": []
    },
    {
      "cell_type": "code",
      "source": [
        "# Filtrando lote padrao para o 2.\n",
        "# Filtrar ações\n",
        "def filter_stocks(df):\n",
        "\n",
        "  df = df[df['codbdi']== 2]\n",
        "  df = df.drop(['codbdi'], 1)\n",
        "  return df\n"
      ],
      "metadata": {
        "colab": {
          "base_uri": "https://localhost:8080/",
          "height": 217
        },
        "id": "fQTjvh4a_0RO",
        "outputId": "73045e33-d57d-41fa-fbf0-d26df6f8b8d5"
      },
      "execution_count": 2,
      "outputs": [
        {
          "output_type": "error",
          "ename": "NameError",
          "evalue": "ignored",
          "traceback": [
            "\u001b[0;31m---------------------------------------------------------------------------\u001b[0m",
            "\u001b[0;31mNameError\u001b[0m                                 Traceback (most recent call last)",
            "\u001b[0;32m<ipython-input-2-640609ad70a3>\u001b[0m in \u001b[0;36m<module>\u001b[0;34m\u001b[0m\n\u001b[1;32m      1\u001b[0m \u001b[0;31m# Filtrando lote padrao para o 2.\u001b[0m\u001b[0;34m\u001b[0m\u001b[0;34m\u001b[0m\u001b[0;34m\u001b[0m\u001b[0m\n\u001b[0;32m----> 2\u001b[0;31m \u001b[0mdf\u001b[0m \u001b[0;34m=\u001b[0m \u001b[0mdf\u001b[0m\u001b[0;34m[\u001b[0m\u001b[0mdf\u001b[0m\u001b[0;34m[\u001b[0m\u001b[0;34m'codbdi'\u001b[0m\u001b[0;34m]\u001b[0m\u001b[0;34m==\u001b[0m \u001b[0;36m2\u001b[0m\u001b[0;34m]\u001b[0m\u001b[0;34m\u001b[0m\u001b[0;34m\u001b[0m\u001b[0m\n\u001b[0m\u001b[1;32m      3\u001b[0m \u001b[0mdf\u001b[0m \u001b[0;34m=\u001b[0m \u001b[0mdf\u001b[0m\u001b[0;34m.\u001b[0m\u001b[0mdrop\u001b[0m\u001b[0;34m(\u001b[0m\u001b[0;34m[\u001b[0m\u001b[0;34m'codbdi'\u001b[0m\u001b[0;34m]\u001b[0m\u001b[0;34m,\u001b[0m \u001b[0;36m1\u001b[0m\u001b[0;34m)\u001b[0m\u001b[0;34m\u001b[0m\u001b[0;34m\u001b[0m\u001b[0m\n\u001b[1;32m      4\u001b[0m \u001b[0mdf\u001b[0m\u001b[0;34m\u001b[0m\u001b[0;34m\u001b[0m\u001b[0m\n",
            "\u001b[0;31mNameError\u001b[0m: name 'df' is not defined"
          ]
        }
      ]
    },
    {
      "cell_type": "code",
      "source": [
        "# ajustando campo data\n",
        "def parse_date(df):\n",
        "  df['data_pregao'] = pd.to_datetime(df['data_pregao'], format = '%Y%m%d')\n",
        "  return df"
      ],
      "metadata": {
        "id": "EG5SBvqkAP9A"
      },
      "execution_count": null,
      "outputs": []
    },
    {
      "cell_type": "code",
      "source": [
        "# Ajustando os campos numericos.\n",
        "def parse_values(df):\n",
        "  df['preco_abertura'] = (df['preco_abertura']/100).astype(float)\n",
        "  df['preco_maximo'] = (df['preco_maximo']/100).astype(float)\n",
        "  df['preco_minimo'] = (df['preco_minimo']/100).astype(float)\n",
        "  df['preco_fechamento'] = (df['preco_fechamento']/100).astype(float)\n",
        "  return df"
      ],
      "metadata": {
        "id": "ab3klkSXBQrA"
      },
      "execution_count": null,
      "outputs": []
    },
    {
      "cell_type": "code",
      "source": [
        "# Juntando os arquivos\n",
        "def concat_files(path, name_file, year_date, type_file, final_file):\n",
        "  for i, y in enumerate(year_date):\n",
        "    df = read_files(path, name_file, y, type_file)\n",
        "    df = filter_stocks(df)\n",
        "    df = parse_date(df)\n",
        "    df = parse_values(df)\n",
        "\n",
        "    if i==0:\n",
        "      df_final = df\n",
        "    else:\n",
        "      df_final = pd.concat([df_final, df])\n",
        "\n",
        "  df_final.to_csv(f{path}//{final_file}, index=False)"
      ],
      "metadata": {
        "id": "iYenSKTFIrQl"
      },
      "execution_count": null,
      "outputs": []
    },
    {
      "cell_type": "code",
      "source": [
        "# Executando programa ETL\n",
        "year_date = ['2018', '2019', '2020']\n",
        "path = f''\n",
        "name_file = 'COTAHIST_A'\n",
        "type_file = 'txt'\n",
        "final_file = 'all_bovespa.csv'\n",
        "concat_files(path, name_file, year_date, type_file, final_file)"
      ],
      "metadata": {
        "id": "nmC1mr8wCR98"
      },
      "execution_count": null,
      "outputs": []
    },
    {
      "cell_type": "code",
      "source": [],
      "metadata": {
        "id": "EqU_QeciCfYF"
      },
      "execution_count": null,
      "outputs": []
    }
  ]
}