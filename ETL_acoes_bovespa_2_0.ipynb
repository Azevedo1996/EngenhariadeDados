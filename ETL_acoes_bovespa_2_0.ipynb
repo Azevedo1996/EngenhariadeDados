{
  "nbformat": 4,
  "nbformat_minor": 0,
  "metadata": {
    "colab": {
      "provenance": [],
      "authorship_tag": "ABX9TyMTJ7+zzRCdMdbq56L7HppX",
      "include_colab_link": true
    },
    "kernelspec": {
      "name": "python3",
      "display_name": "Python 3"
    },
    "language_info": {
      "name": "python"
    }
  },
  "cells": [
    {
      "cell_type": "markdown",
      "metadata": {
        "id": "view-in-github",
        "colab_type": "text"
      },
      "source": [
        "<a href=\"https://colab.research.google.com/github/Azevedo1996/EngenhariadeDados/blob/main/ETL_acoes_bovespa_2_0.ipynb\" target=\"_parent\"><img src=\"https://colab.research.google.com/assets/colab-badge.svg\" alt=\"Open In Colab\"/></a>"
      ]
    },
    {
      "cell_type": "code",
      "execution_count": 1,
      "metadata": {
        "id": "H0-y5JQN6QVV"
      },
      "outputs": [],
      "source": [
        "import pandas as pd\n",
        "\n",
        "def read_files(path, name_file, year_date, type_file):\n",
        "    \"\"\"\n",
        "    Função para ler arquivos posicionais da B3.\n",
        "    \"\"\"\n",
        "    file_path = f\"{path}{name_file}{year_date}.{type_file}\"\n",
        "\n",
        "    # posições das colunas\n",
        "    colspecs = [(2, 10),   # data pregão\n",
        "                (10, 12),  # código BDI\n",
        "                (12, 24),  # sigla da ação\n",
        "                (27, 39),  # nome da ação\n",
        "                (56, 69),  # preço de abertura\n",
        "                (69, 82),  # preço máximo\n",
        "                (82, 95),  # preço mínimo\n",
        "                (108, 121),# preço de fechamento\n",
        "                (152, 170),# quantidade de negócios\n",
        "                (170, 188) # volume de negócios\n",
        "               ]\n",
        "\n",
        "    # nomes das colunas\n",
        "    names = ['data_pregao', 'codbdi', 'sigla_acao', 'nome_acao', \n",
        "             'preco_abertura', 'preco_maximo', 'preco_minimo', \n",
        "             'preco_fechamento', 'qtd_negocios', 'volume_negocios']\n",
        "\n",
        "    # lendo o arquivo\n",
        "    df = pd.read_fwf(file_path, colspecs=colspecs, names=names, skiprows=1)\n",
        "\n",
        "    return df\n",
        "\n",
        "def filter_stocks(df):\n",
        "    \"\"\"\n",
        "    Filtra ações com código BDI igual a 2.\n",
        "    \"\"\"\n",
        "    df = df[df['codbdi'] == 2]\n",
        "    df = df.drop(['codbdi'], axis=1)\n",
        "    return df\n",
        "\n",
        "def parse_date(df):\n",
        "    \"\"\"\n",
        "    Converte a coluna data_pregao para datetime.\n",
        "    \"\"\"\n",
        "    df['data_pregao'] = pd.to_datetime(df['data_pregao'], format='%Y%m%d')\n",
        "    return df\n",
        "\n",
        "def parse_values(df):\n",
        "    \"\"\"\n",
        "    Converte as colunas de preços e volume para float.\n",
        "    \"\"\"\n",
        "    df['preco_abertura'] = (df['preco_abertura'] / 100).astype(float)\n",
        "    df['preco_maximo'] = (df['preco_maximo'] / 100).astype(float)\n",
        "    df['preco_minimo'] = (df['preco_minimo'] / 100).astype(float)\n",
        "    df['preco_fechamento'] = (df['preco_fechamento'] / 100).astype(float)\n",
        "    return df\n",
        "\n",
        "def concat_files(path, name_file, year_date, type_file, final_file):\n",
        "    \"\"\"\n",
        "    Lê, filtra e processa vários arquivos da B3 e concatena em um único dataframe.\n",
        "    \"\"\"\n",
        "    for i, y in enumerate(year_date):\n",
        "        df = read_files(path, name_file, y, type_file)\n",
        "        df = filter_stocks(df)\n",
        "        df = parse_date(df)\n",
        "        df = parse_values(df)\n",
        "\n",
        "        if i == 0:\n",
        "            df_final = df\n",
        "        else:\n",
        "            df_final = pd.concat([df_final, df])\n",
        "\n",
        "    df_final.to_csv(f\"{path}/{final_file}\", index=False)\n",
        "\n",
        "# Executando programa ETL\n",
        "year_date = ['2018', '2019', '2020']\n",
        "path = ''  # coloque o caminho para a pasta onde estão os arquivos\n",
        "name_file = 'COTAHIST_A'\n",
        "type_file = 'txt'\n",
        "final_file = 'all_bovespa.csv'\n"
      ]
    }
  ]
}